{
 "cells": [
  {
   "cell_type": "code",
   "execution_count": 1,
   "metadata": {},
   "outputs": [],
   "source": [
    "# Import other packages for examples\n",
    "import pandas as pd\n",
    "import numpy as np\n",
    "import scipy.sparse as ss\n",
    "\n",
    "from sklearn.feature_extraction.text import CountVectorizer\n",
    "from sklearn import datasets\n",
    "\n",
    "from corextopic import corextopic as ct\n",
    "from corextopic import vis_topic as vt\n",
    "\n",
    "import matplotlib.pyplot as plt\n",
    "import seaborn as sns\n",
    "%matplotlib inline"
   ]
  },
  {
   "cell_type": "code",
   "execution_count": 14,
   "metadata": {},
   "outputs": [
    {
     "data": {
      "text/html": [
       "<div>\n",
       "<style scoped>\n",
       "    .dataframe tbody tr th:only-of-type {\n",
       "        vertical-align: middle;\n",
       "    }\n",
       "\n",
       "    .dataframe tbody tr th {\n",
       "        vertical-align: top;\n",
       "    }\n",
       "\n",
       "    .dataframe thead th {\n",
       "        text-align: right;\n",
       "    }\n",
       "</style>\n",
       "<table border=\"1\" class=\"dataframe\">\n",
       "  <thead>\n",
       "    <tr style=\"text-align: right;\">\n",
       "      <th></th>\n",
       "      <th>text</th>\n",
       "    </tr>\n",
       "  </thead>\n",
       "  <tbody>\n",
       "    <tr>\n",
       "      <th>ama</th>\n",
       "      <td>tldr do whatever the fuck you want so youre te...</td>\n",
       "    </tr>\n",
       "    <tr>\n",
       "      <th>askreddit</th>\n",
       "      <td>victorias secret was originally supposed to be...</td>\n",
       "    </tr>\n",
       "    <tr>\n",
       "      <th>dankmemes</th>\n",
       "      <td>meme of the month seeding and nominations for ...</td>\n",
       "    </tr>\n",
       "    <tr>\n",
       "      <th>funny</th>\n",
       "      <td>but i wanted the robot ferret haha suck it you...</td>\n",
       "    </tr>\n",
       "    <tr>\n",
       "      <th>memes</th>\n",
       "      <td>redditmc is opening staff positions builders h...</td>\n",
       "    </tr>\n",
       "    <tr>\n",
       "      <th>science</th>\n",
       "      <td>am i reading this correctly to conclude that t...</td>\n",
       "    </tr>\n",
       "    <tr>\n",
       "      <th>worldnews</th>\n",
       "      <td>so was there any posts left after the purge ok...</td>\n",
       "    </tr>\n",
       "    <tr>\n",
       "      <th>wsb</th>\n",
       "      <td>after  green days in a row  wsb wtf where did ...</td>\n",
       "    </tr>\n",
       "  </tbody>\n",
       "</table>\n",
       "</div>"
      ],
      "text/plain": [
       "                                                        text\n",
       "ama        tldr do whatever the fuck you want so youre te...\n",
       "askreddit  victorias secret was originally supposed to be...\n",
       "dankmemes  meme of the month seeding and nominations for ...\n",
       "funny      but i wanted the robot ferret haha suck it you...\n",
       "memes      redditmc is opening staff positions builders h...\n",
       "science    am i reading this correctly to conclude that t...\n",
       "worldnews  so was there any posts left after the purge ok...\n",
       "wsb        after  green days in a row  wsb wtf where did ..."
      ]
     },
     "execution_count": 14,
     "metadata": {},
     "output_type": "execute_result"
    }
   ],
   "source": [
    "data_df = pd.read_pickle('./pickles/data_clean.pickle')\n",
    "data_df"
   ]
  },
  {
   "cell_type": "code",
   "execution_count": 17,
   "metadata": {},
   "outputs": [
    {
     "data": {
      "text/html": [
       "<div>\n",
       "<style scoped>\n",
       "    .dataframe tbody tr th:only-of-type {\n",
       "        vertical-align: middle;\n",
       "    }\n",
       "\n",
       "    .dataframe tbody tr th {\n",
       "        vertical-align: top;\n",
       "    }\n",
       "\n",
       "    .dataframe thead th {\n",
       "        text-align: right;\n",
       "    }\n",
       "</style>\n",
       "<table border=\"1\" class=\"dataframe\">\n",
       "  <thead>\n",
       "    <tr style=\"text-align: right;\">\n",
       "      <th></th>\n",
       "      <th>text</th>\n",
       "    </tr>\n",
       "  </thead>\n",
       "  <tbody>\n",
       "    <tr>\n",
       "      <th>science</th>\n",
       "      <td>am i reading this correctly to conclude that t...</td>\n",
       "    </tr>\n",
       "  </tbody>\n",
       "</table>\n",
       "</div>"
      ],
      "text/plain": [
       "                                                      text\n",
       "science  am i reading this correctly to conclude that t..."
      ]
     },
     "execution_count": 17,
     "metadata": {},
     "output_type": "execute_result"
    }
   ],
   "source": [
    "wsb = data_df[-1:]\n",
    "wsb\n",
    "\n",
    "science = data_df[5:6]\n",
    "science"
   ]
  },
  {
   "cell_type": "code",
   "execution_count": 18,
   "metadata": {},
   "outputs": [],
   "source": [
    "vectorizer = CountVectorizer(max_features=20000,\n",
    "                             stop_words='english', token_pattern=\"\\\\b[a-z][a-z]+\\\\b\",\n",
    "                             binary=True, ngram_range=(1,2))\n",
    "\n",
    "doc_word = vectorizer.fit_transform(science.text)\n",
    "words = list(np.asarray(vectorizer.get_feature_names())) "
   ]
  },
  {
   "cell_type": "code",
   "execution_count": 19,
   "metadata": {},
   "outputs": [
    {
     "name": "stdout",
     "output_type": "stream",
     "text": [
      "WARNING: Some words never appear (or always appear)\n"
     ]
    },
    {
     "data": {
      "text/plain": [
       "<corextopic.corextopic.Corex at 0x7fe434d8d970>"
      ]
     },
     "execution_count": 19,
     "metadata": {},
     "output_type": "execute_result"
    }
   ],
   "source": [
    "topic_model = ct.Corex(n_hidden=100, words=words, seed=1)\n",
    "topic_model.fit(doc_word, words=words, docs=science)"
   ]
  },
  {
   "cell_type": "code",
   "execution_count": 20,
   "metadata": {},
   "outputs": [
    {
     "name": "stdout",
     "output_type": "stream",
     "text": [
      "WARNING: Some words never appear (or always appear)\n"
     ]
    },
    {
     "data": {
      "text/plain": [
       "<corextopic.corextopic.Corex at 0x7fe434d8d5e0>"
      ]
     },
     "execution_count": 20,
     "metadata": {},
     "output_type": "execute_result"
    }
   ],
   "source": [
    "tm_layer2 = ct.Corex(n_hidden=10)\n",
    "tm_layer2.fit(topic_model.labels)"
   ]
  },
  {
   "cell_type": "code",
   "execution_count": 21,
   "metadata": {},
   "outputs": [
    {
     "name": "stdout",
     "output_type": "stream",
     "text": [
      "WARNING: Some words never appear (or always appear)\n"
     ]
    },
    {
     "data": {
      "text/plain": [
       "<corextopic.corextopic.Corex at 0x7fe435419d90>"
      ]
     },
     "execution_count": 21,
     "metadata": {},
     "output_type": "execute_result"
    }
   ],
   "source": [
    "tm_layer3 = ct.Corex(n_hidden=1)\n",
    "tm_layer3.fit(tm_layer2.labels)"
   ]
  },
  {
   "cell_type": "code",
   "execution_count": 22,
   "metadata": {},
   "outputs": [
    {
     "name": "stdout",
     "output_type": "stream",
     "text": [
      "weight threshold is 0.000000 for graph with max of 300.000000 edges \n",
      "non-isolated nodes,edges 0 0\n",
      "non-isolated nodes,edges 0 0\n",
      "Couldn't find 'force.html' file for visualizing d3 output\n"
     ]
    },
    {
     "data": {
      "text/plain": [
       "<networkx.classes.digraph.DiGraph at 0x7fe491dcb340>"
      ]
     },
     "execution_count": 22,
     "metadata": {},
     "output_type": "execute_result"
    }
   ],
   "source": [
    "vt.vis_hierarchy([topic_model, tm_layer2, tm_layer3], column_label=words, max_edges=300, prefix='topic-model-example')"
   ]
  },
  {
   "cell_type": "code",
   "execution_count": 23,
   "metadata": {},
   "outputs": [
    {
     "data": {
      "image/png": "[encoded data removed]",
      "text/plain": [
       "<Figure size 720x360 with 1 Axes>"
      ]
     },
     "metadata": {
      "needs_background": "light"
     },
     "output_type": "display_data"
    }
   ],
   "source": [
    "plt.figure(figsize=(10,5))\n",
    "plt.bar(range(topic_model.tcs.shape[0]), topic_model.tcs, color='#4e79a7', width=0.5)\n",
    "plt.xlabel('Topic', fontsize=16)\n",
    "plt.ylabel('Total Correlation (nats)', fontsize=16);"
   ]
  },
  {
   "cell_type": "code",
   "execution_count": 24,
   "metadata": {
    "scrolled": false
   },
   "outputs": [
    {
     "name": "stdout",
     "output_type": "stream",
     "text": [
      "0: long abandoned,produce litres,produced lower,profitable usable,project currently,propaganda,properly doing,properly used,properties magic,property terms\n",
      "1: long adapt,pumped,punishment monetary,purposefully racist,quickly dont,raise meal,random bills,razor,read caveman,read went\n",
      "2: long gauntlet,proper diagnosis,properties protons,providing evidence,psychiatry,purpose evolution,pushing boundaries,putting existing,question heshe,quickly body\n",
      "3: long plastic,react exactly,read potato,read table,real life,really change,really literally,really ways,reason mosquitos,reason wont\n",
      "4: longer tipped,quantum computer,qubit,questioning raceethnicity,questions really,quitting hour,random unlikely,rant month,rapamycin,rates credit\n",
      "5: look awful,predicting,preexisting,prefer dislike,prefer having,pretty stupid,prety,prevalent chronic,prevent lot,previous understanding\n",
      "6: long service,problem given,produce hydrogen,progression,prove ones,proven random,provider phone,purifiers room,puts,probably fight\n",
      "7: long tipping,prices based,prices meals,pricing just,primarily,principles bowdriven,probably use,processes evidence,produce bees,programmachine\n",
      "8: longer walking,property dots,proponent vitamin,propose vapers,pump old,pump surplus,pungent,purchase brinenacl,purpose gallons,push\n",
      "9: lot evidence,probably low,produce fertile,production defined,programming control,protect,proteins dont,psych,pulling drinkable,purchases\n",
      "10: long takes,problem cost,problem dont,problem giving,problem ive,problems seemingly,procedure final,processes signals,produces eyes,progressing\n",
      "11: long tell,property arises,prototypes,psoriasis,pure nacl,question sources,quit women,rating,read dont,read proposed\n",
      "12: long debates,price instead,price wonder,prices raise,process caused,process intimately,product product,production practices,projects efficient,projects scale\n",
      "13: longitudinal data,profiles humans,prognosis importance,project started,proof remember,proposing,protections forests,proud,prove maybe,proven know\n",
      "14: look thomas,proven effective,proximity earth,psychonic network,pumping brine,purchased object,puts way,qualiasubjective experience,question way,quickly taking\n",
      "15: long extract,provider rewarded,psychiatry psychology,punish reward,qualifies,qualify word,quantum computing,quantum states,quotes counts,rapidly mutate\n",
      "16: long let,probably affordable,problems customers,process unfortunately,properly explained,purposely,puts position,questions quick,radiation like,priori\n",
      "17: long story,prohibitively like,propagated solution,proper unit,properties water,provide income,provision mere,psychiatrists older,pulls week,push restaurant\n",
      "18: long years,pump,purification method,pusher,question intrinsic,questioning defines,questions lastly,quite understanding,rainfall,rate money\n",
      "19: look doesnt,project funded,properties conways,property brain,prosthetic pointless,protein sequence,proteins denatured,push tell,putting pressure,quantum consciousness\n",
      "20: look receptor,race lines,rack orders,radiation ocean,raises blood,randomly peppered,ranting,rapidly dwindling,rarely deeper,rarely popular\n",
      "21: long dead,product response,profile,project money,properties salt,prosecuted,protein strand,psychopathology works,publication mean,publishers\n",
      "22: longer adapted,profit tip,proof people,protecting environment,proven work,psychiatric disorder,public water,published scientists,pun,quantum potential\n",
      "23: long paddle,problem science,product betadine,producttrade,profitable chemicals,profits ill,progress sodium,project current,protection just,purification\n",
      "24: long hours,produce id,productiveprofitable uses,professional,provide extra,provided know,proximal,psychiatric diagnosis,psychiatrist years,publish\n",
      "25: long mental,poor taste,possess arranged,possibilities fulfilled,possible ends,post links,power tools,practice,practice peoples,pools evaporate\n",
      "26: long run,provide people,providing,provoking,psychopathology general,public,pulls like,purely benefit,question especially,question think\n",
      "27: long life,question probably,radiation,random requires,range products,rates emissions,read file,real die,reality,really fascinating\n",
      "28: long doesnt,profits employees,prominent time,properties just,proposal figure,protect water,protecting,protein kinda,providers different,proximal sense\n",
      "29: long mean,prices accordingly,privately,probably asshole,probably supply,problem boilers,problem studied,problem things,produce different,products novel\n",
      "30: lose extrinsic,pure homo,question really,radically changed,radiolaser,radiolaser signal,rammstein song,rats,reaching workers,read disc\n",
      "31: looked spread,potentially useful,power dumb,powerelectricity,prep,prepare,president didnt,pressure just,pretty slow,prevent\n",
      "32: looking mouth,puncturing icy,pure neaderthal,quality urgently,quantity,quantum mysticism,quantum probabilities,question sustainable,raise minimum,raman singh\n",
      "33: long lasts,processes random,produced structures,professor stephanie,project unlikely,projects,protective,pseudoscience maybe,psychical,published journal\n",
      "34: look rich,problem wage,produced isnt,profit guess,properly configured,properties really,protect pretty,provide owners,pubs apply,pull water\n",
      "35: long widely,producing maybe,product different,product use,prognosis,prospective studies,protect humanity,protection user,pulse,qualify depression\n",
      "36: long add,problems screwed,processing external,products services,prohibitively large,provided contradictory,psych disorders,psychiatric,pumping salt,purchasing tickets\n",
      "37: longer interesting,produce im,produces note,profit sick,prompt,pronounced longer,properly think,properties individual,prospect tips,protected predate\n",
      "38: look pretty,pretty aerosol,prices just,primary,proactively wait,probably quite,problem scaling,produced,producttrade nameactive,project really\n",
      "39: longer remember,principle,probably unpopular,problems things,product sellingbeing,products,profit,profit worries,promote,provide cheap\n",
      "40: long day,providing little,psychiatric diagnoses,psychobiological,pump properly,purchasing,purified nacl,purse just,qualitative properties,question experience\n",
      "41: long species,probabilities,problem figured,problem monopoly,professionals,professors,profiting,profits happy,projects like,properties hydrogen\n",
      "42: long depressive,produce,produced modern,product sold,productive,profile denisovan,provinces checking,psychological effect,question just,quitting\n",
      "43: long lenses,prices larger,prices mandatory,probably gobekli,probably influenced,probably look,problem anymore,problem lies,process outside,process provide\n",
      "44: long message,provide,proving interesting,psychiatrist especially,ptsd eating,publications solve,purchasing climate,pursuit knowledge,putative,qualiasensory\n",
      "45: long droughts,post offices,potatoes amazing,pounds,power follow,precipitate,pretty large,price automatically,price process,prices way\n",
      "46: long personally,preventing,price skewer,prices bet,prices far,prices local,probably end,probably womans,problems dont,producing consciousness\n",
      "47: look bells,quite reliably,quite time,racism using,range microorganisms,ranking,rape point,rat conscious,read httpsearthskyorgspacecouldmicrobesbeaffectingvenusclimate,reagent requires\n",
      "48: longer considered,provided service,public health,pulled frequently,purpose tipping,quality bricks,quantic,radar theres,radiation tolerable,rae materials\n",
      "49: looking dominos,pubs,pure hydrogen,pushing soil,quats,question rape,quirks,quite thankful,racialized,radar times\n",
      "50: long make,processes dont,processing simpler,profitprivate housingfarming,prop water,propagate scale,proposal understand,proposed floating,providing makes,psychiatrist moved\n",
      "51: longer training,proven complexity,proven defence,provide good,purpose serves,question rendered,question talk,questionaires,questions proof,quick look\n",
      "52: looking answer,production idea,profitprivate,progress finally,project hopefully,projections,promise walk,properly,provide perspective,provinces\n",
      "53: looking patients,promptly,proton moving,provide near,pulling ass,putting,pvpi,quantifiable variable,quantum physics,question supposed\n",
      "54: aaaages,protect natural,provided black,psychogenesis goes,pulled week,question dont,questions questions,quite normal,raceethnicity ecigarette,rail\n",
      "55: long planet,pumped right,pure,purification goo,putting words,questions race,quickly large,raise wages,rapport,read especially\n",
      "56: longer tall,publishers care,pulluting,pump got,pure sorry,qualify anxiety,quantities,quantum sense,protect money,questionable taxes\n",
      "57: long did,productiveprofitable,progressive focal,promising actual,proposals socal,protein understanding,provided context,pull black,pumping water,puts employer\n",
      "58: long people,protoncoupled,provision,pub,pulsed exactly,pure salt,putting breathable,quantum yes,radical departure,rain forests\n",
      "59: long extinct,probably typically,problem unscientific,property easily,proprietary,prosocial behavior,pulled labor,punch,puts responsibility,putting kids\n",
      "60: longer decide,psychiatrist,pumping fresh,putting choice,quantum mechanical,rains,ranges uk,read dismissal,reality matter,prospective\n",
      "61: looking antiplaque,profound impact,prohibitive secondary,properties quarks,proteins thats,proven crabs,pseudomystical way,publication finds,published nature,pump live\n",
      "62: long shifts,prohibit places,project yesterday,protect help,protects,prototypes healthcare,psychopathology,ptsd bipolar,pull career,pump bit\n",
      "63: long period,profile tides,propagate,prostheses,protein create,provide tip,psychology huge,publication,published respected,pulsed\n",
      "64: longer having,protect pay,protections percent,proteins function,prove mean,proximity,published springer,punishment just,push accepted,quite years\n",
      "65: long maybe,preposterous youre,prescription got,present,pressure sound,pretend like,pretty friggin,pretty purely,prety sure,prevents continually\n",
      "66: look directly,prompt attention,properly tell,prostheses vast,protected study,psychiatrist need,psychiatrist utterly,psychology management,psychosis kinds,pullman provided\n",
      "67: long periods,pull bow,pure water,quantifiable matter,quantum mechanism,question questions,question treatedcured,rae,range conditions,real bad\n",
      "68: lot brine,product likely,profession,profit companies,profitable capitalism,prognosis methods,proof income,proper,prove took,process salt\n",
      "69: long suspected,pushers idea,qualified working,quality imo,quality size,question make,questions arise,quickly bifocals,quotes,radically different\n",
      "70: long blade,professor,proposal,prosecuted staff,provides rest,providing water,psp,psychiatrist really,punish,push button\n",
      "71: lot uncharacteristic,problem needed,procedures ive,process posts,produce left,production yield,professor medicine,profitable covid,programming facilitate,progress progress\n",
      "72: longer days,probably night,probably read,probably rush,problem boss,problem need,problems ocean,produced production,product sure,profit does\n",
      "73: long care,previous comments,price exactly,price probably,prices customer,prices gonna,prime example,probably human,probably usually,problems\n",
      "74: look graph,profits dont,proteinsand,pull log,pump turn,pumping doing,purse,putting mouth,quality huh,quality staff\n",
      "75: look genes,psychiatrist moving,psychodelic,ptsd related,public media,pulling,push episode,pushy rushing,qbits bits,quality human\n",
      "76: long dump,prohibitively,proper terminology,provide evidence,provide solid,provide water,published oldest,quality comes,quantum mechanic,quebec\n",
      "77: long bone,previously asked,price thing,privatelyimposed tax,probably cylon,probably infinite,problem innately,profit shared,progressives,prohibitively energy\n",
      "78: long does,prices business,prices higher,prices ill,problem customers,problems force,process similar,processes signal,profited,properties molecule\n",
      "79: long including,proteins ions,prove heterosexual,proven,psychological terms,public talks,published letter,pull busy,pulling salt,proof tell\n",
      "80: long ago,professors talking,promising development,prone calciumdependent,properly oh,providers,psychology arguably,psychonic,psychons manifests,psychosis variation\n",
      "81: longer running,processed costs,processes universe,produce pesticide,products solution,prolonging period,protector just,proximity probably,pushy,quality\n",
      "82: long cycle,provide safe,published online,pulls,puzzle denisovan,qbits definitively,question ask,question organic,questions sources,quick learn\n",
      "83: longer kinda,product brain,production cycle,professionals just,profit ahead,profited totalitarian,promptly turned,proper measures,properties thing,protect planet\n",
      "84: look numbers,project initial,prove dont,proven sustainable,provide adequate,psychiatric systems,public areas,published,pump sea,push pull\n",
      "85: long term,pump salt,rampagingkitten,reaction maybe,read wasnt,really miss,reasonable comparison,receive servers,recording area,reddit long\n",
      "86: longer,provides medical,psychological syndrome,public varies,qualia exist,qualiasensory experiences,quantum phenomena,quarts,questionable rphilosophy,questions didnt\n",
      "87: long color,probably significantly,problem theres,programmed,proper evidence,properly diagnose,protoncoupled electron,psychiatrists doctors,pushing years,qualified\n",
      "88: long time,professional google,proposals,protein basically,psychobiological effects,push label,qbit,quantify souls,quantum neuroscience,quiet probably\n",
      "89: long ocean,quantum electrodynamic,radiative,random sure,ranting thanks,rate somewhat,rates gallonsday,read diagnosis,real shortfalls,really expect\n",
      "90: long eye,provide homes,question large,questions simple,quick,rate pay,realize lot,realized informal,really latitude,proud hard\n",
      "91: long material,problem doesnt,problem easily,problem solved,problems negative,problems use,process doesnt,processes input,product energy,property sufficiently\n",
      "92: long dont,profit selective,profound,prone,properly thought,proportion number,prove efficient,provide structural,psp pores,qualiasubjective\n",
      "93: look beasts,propose understanding,proposition quantum,psoriasis research,psychical activity,pure form,puzzle nasa,pz,quantum magic,quantum phenomenon\n",
      "94: long protein,problems surmountable,processing psychology,product fact,product vary,programme undp,progression bifocals,prosthetics skin,protein interactions,puns\n",
      "95: lot scope,processes southern,product wouldnt,professor scott,profit ops,programme,project sapiens,protect nature,prove cost,psychology pseudoscience\n",
      "96: long feel,raceethnicity,raskscience,react medication,read linked,reagents biggest,real measurement,reason freeing,reason hate,reason people\n",
      "97: long break,progression wouldnt,promising,proven listerine,provide clean,provided disadvantage,psychiatric drugs,public increase,pumping waste,pvpi research\n",
      "98: long look,price paid,primordial god,prioritized,problem question,problems agree,procedure interpretation,process kiln,produce china,profit world\n",
      "99: long previous,pretty quickly,privatized let,probably heavily,probably paces,problem release,problem solution,process called,produce expected,produce gallons\n"
     ]
    }
   ],
   "source": [
    "# Print all topics from the CorEx topic model\n",
    "topics = topic_model.get_topics()\n",
    "for n,topic in enumerate(topics):\n",
    "    topic_words,_ = zip(*topic)\n",
    "    print('{}: '.format(n) + ','.join(topic_words))"
   ]
  },
  {
   "cell_type": "code",
   "execution_count": 26,
   "metadata": {},
   "outputs": [
    {
     "name": "stdout",
     "output_type": "stream",
     "text": [
      "0: text\n",
      "1: text\n",
      "2: text\n",
      "3: text\n",
      "4: text\n",
      "5: text\n",
      "6: text\n",
      "7: text\n",
      "8: text\n",
      "9: text\n",
      "10: text\n",
      "11: text\n",
      "12: text\n",
      "13: text\n",
      "14: text\n",
      "15: text\n",
      "16: text\n",
      "17: text\n",
      "18: text\n",
      "19: text\n",
      "20: text\n",
      "21: text\n",
      "22: text\n",
      "23: text\n",
      "24: text\n",
      "25: text\n",
      "26: text\n",
      "27: text\n",
      "28: text\n",
      "29: text\n",
      "30: text\n",
      "31: text\n",
      "32: text\n",
      "33: text\n",
      "34: text\n",
      "35: text\n",
      "36: text\n",
      "37: text\n",
      "38: text\n",
      "39: text\n",
      "40: text\n",
      "41: text\n",
      "42: text\n",
      "43: text\n",
      "44: text\n",
      "45: text\n",
      "46: text\n",
      "47: text\n",
      "48: text\n",
      "49: text\n",
      "50: text\n",
      "51: text\n",
      "52: text\n",
      "53: text\n",
      "54: text\n",
      "55: text\n",
      "56: text\n",
      "57: text\n",
      "58: text\n",
      "59: text\n",
      "60: text\n",
      "61: text\n",
      "62: text\n",
      "63: text\n",
      "64: text\n",
      "65: text\n",
      "66: text\n",
      "67: text\n",
      "68: text\n",
      "69: text\n",
      "70: text\n",
      "71: text\n",
      "72: text\n",
      "73: text\n",
      "74: text\n",
      "75: text\n",
      "76: text\n",
      "77: text\n",
      "78: text\n",
      "79: text\n",
      "80: text\n",
      "81: text\n",
      "82: text\n",
      "83: text\n",
      "84: text\n",
      "85: text\n",
      "86: text\n",
      "87: text\n",
      "88: text\n",
      "89: text\n",
      "90: text\n",
      "91: text\n",
      "92: text\n",
      "93: text\n",
      "94: text\n",
      "95: text\n",
      "96: text\n",
      "97: text\n",
      "98: text\n",
      "99: text\n"
     ]
    }
   ],
   "source": [
    "# Print topic docs\n",
    "top_docs = topic_model.get_top_docs()\n",
    "for n,topic_docs in enumerate(top_docs):\n",
    "    docs, probs = zip(*topic_docs)\n",
    "    print('{}: '.format(n) + ','.join(docs))"
   ]
  },
  {
   "cell_type": "code",
   "execution_count": 11,
   "metadata": {},
   "outputs": [
    {
     "name": "stdout",
     "output_type": "stream",
     "text": [
      "Print topics in text file\n"
     ]
    }
   ],
   "source": [
    "vt.vis_rep(topic_model, column_label=words, prefix='topic-model-example')"
   ]
  },
  {
   "cell_type": "code",
   "execution_count": null,
   "metadata": {},
   "outputs": [],
   "source": []
  }
 ],
 "metadata": {
  "kernelspec": {
   "display_name": "Python 3",
   "language": "python",
   "name": "python3"
  },
  "language_info": {
   "codemirror_mode": {
    "name": "ipython",
    "version": 3
   },
   "file_extension": ".py",
   "mimetype": "text/x-python",
   "name": "python",
   "nbconvert_exporter": "python",
   "pygments_lexer": "ipython3",
   "version": "3.8.3"
  }
 },
 "nbformat": 4,
 "nbformat_minor": 4
}
