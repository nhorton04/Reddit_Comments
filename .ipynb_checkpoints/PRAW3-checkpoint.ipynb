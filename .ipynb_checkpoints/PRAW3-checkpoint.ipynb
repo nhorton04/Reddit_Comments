{
 "cells": [
  {
   "cell_type": "code",
   "execution_count": 2,
   "metadata": {},
   "outputs": [],
   "source": [
    "import praw"
   ]
  },
  {
   "cell_type": "code",
   "execution_count": 3,
   "metadata": {},
   "outputs": [],
   "source": [
    "reddit = praw.Reddit(client_id='Hcx9WrUhRZm6Kw', client_secret='UpyC5FWWd91tpYvXBN7LjTbidWQ', user_agent='comment_DL')"
   ]
  },
  {
   "cell_type": "code",
   "execution_count": null,
   "metadata": {},
   "outputs": [],
   "source": [
    "science = reddit.subreddit('science')\n",
    "\n",
    "# wsb_submissions = {}\n",
    "# titles_only = []\n",
    "comments = []\n",
    "\n",
    "for submission in science.hot(limit=100):\n",
    "#     wsb_submissions[submission.title] = submission\n",
    "#     titles_only.append(submission.title)\n",
    "    submission.comments.replace_more(limit=None)\n",
    "    for comment in submission.comments.list():\n",
    "        comments.append(comment.body)\n",
    "\n",
    "# wsb_comments\n",
    "# titles_only\n",
    "comments"
   ]
  },
  {
   "cell_type": "code",
   "execution_count": null,
   "metadata": {},
   "outputs": [],
   "source": [
    "with open('science.pickle', 'wb') as file:\n",
    "    pickle.dump(comments, file)"
   ]
  },
  {
   "cell_type": "code",
   "execution_count": null,
   "metadata": {},
   "outputs": [],
   "source": []
  }
 ],
 "metadata": {
  "kernelspec": {
   "display_name": "Python 3",
   "language": "python",
   "name": "python3"
  },
  "language_info": {
   "codemirror_mode": {
    "name": "ipython",
    "version": 3
   },
   "file_extension": ".py",
   "mimetype": "text/x-python",
   "name": "python",
   "nbconvert_exporter": "python",
   "pygments_lexer": "ipython3",
   "version": "3.8.3"
  }
 },
 "nbformat": 4,
 "nbformat_minor": 4
}
