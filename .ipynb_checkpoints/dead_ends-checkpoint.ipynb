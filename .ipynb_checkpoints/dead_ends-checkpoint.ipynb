{
 "cells": [
  {
   "cell_type": "code",
   "execution_count": 2,
   "metadata": {},
   "outputs": [],
   "source": [
    "import pickle\n",
    "import pandas as pd\n",
    "with open(f'/home/nick/Documents/Reddit_NLP/pickles/wsb.pickle', 'rb') as file:\n",
    "    wsb = pickle.load(file)\n",
    "with open('/home/nick/Documents/Reddit_NLP/pickles/science.pickle', 'rb') as file:\n",
    "    science = pickle.load(file)\n",
    "with open('/home/nick/Documents/Reddit_NLP/pickles/ama.pickle', 'rb') as file:\n",
    "    ama = pickle.load(file)\n",
    "with open('/home/nick/Documents/Reddit_NLP/pickles/askreddit.pickle', 'rb') as file:\n",
    "    askreddit = pickle.load(file)\n",
    "with open('/home/nick/Documents/Reddit_NLP/pickles/worldnews.pickle', 'rb') as file:\n",
    "    worldnews = pickle.load(file)\n",
    "with open('/home/nick/Documents/Reddit_NLP/pickles/funny.pickle', 'rb') as file:\n",
    "    funny = pickle.load(file)\n",
    "with open('/home/nick/Documents/Reddit_NLP/pickles/dankmemes.pickle', 'rb') as file:\n",
    "    dankmemes = pickle.load(file)\n",
    "with open('/home/nick/Documents/Reddit_NLP/pickles/politics.pickle', 'rb') as file:\n",
    "    politics = pickle.load(file)\n",
    "with open('/home/nick/Documents/Reddit_NLP/pickles/memes.pickle', 'rb') as file:\n",
    "    memes = pickle.load(file)\n",
    "with open('/home/nick/Documents/Reddit_NLP/pickles/psychology.pickle', 'rb') as file:\n",
    "    psychology = pickle.load(file)\n",
    "with open('/home/nick/Documents/Reddit_NLP/pickles/nosleep.pickle', 'rb') as file:\n",
    "    nosleep = pickle.load(file)\n",
    "with open('/home/nick/Documents/Reddit_NLP/pickles/cscareerquestions.pickle', 'rb') as file:\n",
    "    cscareerquestions = pickle.load(file)\n",
    "with open('/home/nick/Documents/Reddit_NLP/pickles/writingprompts.pickle', 'rb') as file:\n",
    "    writingprompts = pickle.load(file)"
   ]
  },
  {
   "cell_type": "code",
   "execution_count": null,
   "metadata": {},
   "outputs": [],
   "source": [
    "subbs = [wsb, science, ama, askreddit, worldnews, funny, dankmemes, memes, nosleep, psychology, politics, cscareerquestions, writingprompts]"
   ]
  },
  {
   "cell_type": "code",
   "execution_count": null,
   "metadata": {},
   "outputs": [],
   "source": [
    "df = pd.DataFrame()\n",
    "for sub in subbs[:3]:\n",
    "    df[sub] = pd.Series(sub)\n",
    "df"
   ]
  },
  {
   "cell_type": "code",
   "execution_count": null,
   "metadata": {},
   "outputs": [],
   "source": [
    "def clean(text):\n",
    "    text = text.lower()\n",
    "    text = re.sub('\\[.*?\\]', '', text)\n",
    "    text = re.sub('[%s]' % re.escape(string.punctuation), '', text)\n",
    "    text = re.sub('\\w*\\d\\w*', '', text)\n",
    "    text = re.sub('[‘’“”…]', '', text)\n",
    "    text = re.sub('\\n', ' ', text)\n",
    "    return text\n",
    "\n",
    "def pre_clean(documents):\n",
    "    cleaned_list = []\n",
    "    for doc in documents:\n",
    "        cleaned_list.append(clean(doc))\n",
    "    return cleaned_list"
   ]
  },
  {
   "cell_type": "code",
   "execution_count": null,
   "metadata": {},
   "outputs": [],
   "source": [
    "def lemmatize(text):\n",
    "    nlp = spacy.load('en_core_web_sm', disable=['parser', 'ner'])\n",
    "    nlp.max_length = 14082871\n",
    "    teckst = nlp(' '.join(text))\n",
    "    return ' '.join([word.lemma_ for word in teckst])\n",
    "\n",
    "# clean = lambda x: lemmatize(x)\n",
    "\n",
    "# Let's take a look at the updated text"
   ]
  },
  {
   "cell_type": "code",
   "execution_count": null,
   "metadata": {},
   "outputs": [],
   "source": [
    "# Clean text\n",
    "\n",
    "def lemmatize(text):\n",
    "    nlp = spacy.load('en_core_web_sm', disable=['parser', 'ner'])\n",
    "    nlp.max_length = 10000000000\n",
    "    teckst = nlp(' '.join(text))\n",
    "    return ' '.join([word.lemma_ for word in teckst])\n",
    "\n",
    "# clean = lambda x: lemmatize(x)\n",
    "\n",
    "# Let's take a look at the updated text\n",
    "for text in data_clean.text[:5]:\n",
    "    tized = lemmatize(text)\n",
    "    data_clean.text = [re.sub('-PRON-', '', x) for x in tized]\n"
   ]
  }
 ],
 "metadata": {
  "kernelspec": {
   "display_name": "Python 3",
   "language": "python",
   "name": "python3"
  },
  "language_info": {
   "codemirror_mode": {
    "name": "ipython",
    "version": 3
   },
   "file_extension": ".py",
   "mimetype": "text/x-python",
   "name": "python",
   "nbconvert_exporter": "python",
   "pygments_lexer": "ipython3",
   "version": "3.8.3"
  }
 },
 "nbformat": 4,
 "nbformat_minor": 4
}
