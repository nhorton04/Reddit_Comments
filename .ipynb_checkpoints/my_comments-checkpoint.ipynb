{
 "cells": [
  {
   "cell_type": "markdown",
   "metadata": {},
   "source": [
    "## Project 4: Unsupervised Learning and Natural Language Processing (NLP)\n",
    "###### Weeks 6.5 - 8\n",
    "\n",
    "## Prompt\n",
    "\n",
    "What can we learn about our text data via unsupervised learning techniques?  Extend your analysis by combining unsupervised and supervised learning methods, or by developing a recommender system, etc.\n",
    "\n",
    "### Data:\n",
    "\n",
    " * **Text data (required)**\n",
    " * **acquisition**: APIs, web scraping, etc.\n",
    " * **storage**: SQL, noSQL - your choice\n",
    "\n",
    "### Skills & Tools\n",
    "\n",
    " - **NLP (required)**\n",
    "   - **Text preprocessing, Count/TF-IDF Vectorizer (required)**\n",
    "   - Embeddings: Word2Vec, Doc2Vec, Text2Vec, GloVe, BERT, ELMo, etc. (advanced)\n",
    "   - Text generation: Markov Chains, Neural Networks (advanced, not recommended for Project 4)\n",
    " - **Unsupervised learning (required)**\n",
    "   - **Dimensionality reduction**: PCA, t-SNE, etc.\n",
    "      - **Topic modeling**: LSA, NMF, LDA, etc.\n",
    "   - **Clustering**: K-means, DBSCAN, etc.\n",
    "   - **Recommender systems** - proof of concept or a full-fledged web app\n",
    "\n",
    "## Required Deliverables\n",
    "* **README: First draft due Monday 8/10**\n",
    "* **Organized code repository**\n",
    "* **Slide deck**\n",
    "\n",
    "### Design:\n",
    "\n",
    " * iterative design process\n",
    " * \"MVP\"s and building outward\n",
    "\n",
    "The unsupervised learning / NLP project will have a less explicit workflow compaerd to the regression / classification projects. Instead of prediction, unsupervised learning is typically about extracting latent features (dimensionality reduction / topic modeling / embeddings) and/or identifying similar data points (clustering / recommendation). Similarly, at a high-level NLP is all about converting complex human language into numerical values that can be fed into various machine learning algorithms and techniques.\n"
   ]
  },
  {
   "cell_type": "code",
   "execution_count": 16,
   "metadata": {},
   "outputs": [],
   "source": [
    "import pickle\n",
    "with open('/home/nick/Documents/Reddit_NLP/wsb.pickle', 'rb') as file:\n",
    "    wsb = pickle.load(file)\n",
    "with open('/home/nick/Documents/Reddit_NLP/science.pickle', 'rb') as file:\n",
    "    science = pickle.load(file)\n",
    "with open('/home/nick/Documents/Reddit_NLP/ama.pickle', 'rb') as file:\n",
    "    ama = pickle.load(file)\n",
    "with open('/home/nick/Documents/Reddit_NLP/askreddit.pickle', 'rb') as file:\n",
    "    askreddit = pickle.load(file)\n",
    "with open('/home/nick/Documents/Reddit_NLP/worldnews.pickle', 'rb') as file:\n",
    "    worldnews = pickle.load(file)\n",
    "with open('/home/nick/Documents/Reddit_NLP/funny.pickle', 'rb') as file:\n",
    "    funny = pickle.load(file)\n",
    "with open('/home/nick/Documents/Reddit_NLP/dankmemes.pickle', 'rb') as file:\n",
    "    dankmemes = pickle.load(file)\n",
    "with open('/home/nick/Documents/Reddit_NLP/memes.pickle', 'rb') as file:\n",
    "    memes = pickle.load(file)"
   ]
  },
  {
   "cell_type": "code",
   "execution_count": 17,
   "metadata": {},
   "outputs": [
    {
     "data": {
      "text/plain": [
       "10015"
      ]
     },
     "execution_count": 17,
     "metadata": {},
     "output_type": "execute_result"
    }
   ],
   "source": [
    "len(wsb)"
   ]
  },
  {
   "cell_type": "code",
   "execution_count": 18,
   "metadata": {},
   "outputs": [
    {
     "data": {
      "text/plain": [
       "5305"
      ]
     },
     "execution_count": 18,
     "metadata": {},
     "output_type": "execute_result"
    }
   ],
   "source": [
    "len(science)"
   ]
  },
  {
   "cell_type": "code",
   "execution_count": 19,
   "metadata": {},
   "outputs": [
    {
     "data": {
      "text/plain": [
       "1885"
      ]
     },
     "execution_count": 19,
     "metadata": {},
     "output_type": "execute_result"
    }
   ],
   "source": [
    "len(ama)"
   ]
  },
  {
   "cell_type": "code",
   "execution_count": null,
   "metadata": {},
   "outputs": [],
   "source": [
    "len(askreddit)"
   ]
  },
  {
   "cell_type": "code",
   "execution_count": null,
   "metadata": {},
   "outputs": [],
   "source": [
    "len(worldnews)"
   ]
  },
  {
   "cell_type": "code",
   "execution_count": null,
   "metadata": {},
   "outputs": [],
   "source": [
    "len(funny)"
   ]
  },
  {
   "cell_type": "code",
   "execution_count": null,
   "metadata": {},
   "outputs": [],
   "source": [
    "len(dankmemes)"
   ]
  },
  {
   "cell_type": "code",
   "execution_count": null,
   "metadata": {},
   "outputs": [],
   "source": [
    "len(memes)"
   ]
  }
 ],
 "metadata": {
  "kernelspec": {
   "display_name": "Python 3",
   "language": "python",
   "name": "python3"
  },
  "language_info": {
   "codemirror_mode": {
    "name": "ipython",
    "version": 3
   },
   "file_extension": ".py",
   "mimetype": "text/x-python",
   "name": "python",
   "nbconvert_exporter": "python",
   "pygments_lexer": "ipython3",
   "version": "3.8.3"
  }
 },
 "nbformat": 4,
 "nbformat_minor": 4
}
