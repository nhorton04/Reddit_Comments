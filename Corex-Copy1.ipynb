{
 "cells": [
  {
   "cell_type": "code",
   "execution_count": 2,
   "metadata": {},
   "outputs": [],
   "source": [
    "# Import other packages for examples\n",
    "import pandas as pd\n",
    "import numpy as np\n",
    "import scipy.sparse as ss\n",
    "\n",
    "from sklearn.feature_extraction.text import CountVectorizer\n",
    "from sklearn import datasets\n",
    "\n",
    "from corextopic import corextopic as ct\n",
    "from corextopic import vis_topic as vt\n",
    "\n",
    "import matplotlib.pyplot as plt\n",
    "import seaborn as sns\n",
    "%matplotlib inline"
   ]
  },
  {
   "cell_type": "code",
   "execution_count": 57,
   "metadata": {},
   "outputs": [
    {
     "data": {
      "text/html": [
       "<div>\n",
       "<style scoped>\n",
       "    .dataframe tbody tr th:only-of-type {\n",
       "        vertical-align: middle;\n",
       "    }\n",
       "\n",
       "    .dataframe tbody tr th {\n",
       "        vertical-align: top;\n",
       "    }\n",
       "\n",
       "    .dataframe thead th {\n",
       "        text-align: right;\n",
       "    }\n",
       "</style>\n",
       "<table border=\"1\" class=\"dataframe\">\n",
       "  <thead>\n",
       "    <tr style=\"text-align: right;\">\n",
       "      <th></th>\n",
       "      <th>text</th>\n",
       "    </tr>\n",
       "  </thead>\n",
       "  <tbody>\n",
       "    <tr>\n",
       "      <th>wsb</th>\n",
       "      <td>future apple   share gran kid ask not buy appl...</td>\n",
       "    </tr>\n",
       "    <tr>\n",
       "      <th>science</th>\n",
       "      <td>child motivate achieve maximum reward extent...</td>\n",
       "    </tr>\n",
       "    <tr>\n",
       "      <th>ama</th>\n",
       "      <td>tldr fuck want tell people internet lie   funn...</td>\n",
       "    </tr>\n",
       "    <tr>\n",
       "      <th>askreddit</th>\n",
       "      <td>victorias secret originally suppose place man ...</td>\n",
       "    </tr>\n",
       "    <tr>\n",
       "      <th>worldnews</th>\n",
       "      <td>post leave purge ok context   facebook estimat...</td>\n",
       "    </tr>\n",
       "    <tr>\n",
       "      <th>funny</th>\n",
       "      <td>want robot ferret haha suck fool get robotic f...</td>\n",
       "    </tr>\n",
       "    <tr>\n",
       "      <th>dankmemes</th>\n",
       "      <td>meme month seed nomination july     nomination...</td>\n",
       "    </tr>\n",
       "    <tr>\n",
       "      <th>memes</th>\n",
       "      <td>redditmc open staff position builder helper mo...</td>\n",
       "    </tr>\n",
       "    <tr>\n",
       "      <th>nosleep</th>\n",
       "      <td>look like story click   reminder check later g...</td>\n",
       "    </tr>\n",
       "    <tr>\n",
       "      <th>psychology</th>\n",
       "      <td>decision mental health care canada    study ...</td>\n",
       "    </tr>\n",
       "    <tr>\n",
       "      <th>politics</th>\n",
       "      <td>wait hold fucking phone   spend like   minute ...</td>\n",
       "    </tr>\n",
       "    <tr>\n",
       "      <th>cscareerquestions</th>\n",
       "      <td>hi   ve look stable job freelancing rn past ye...</td>\n",
       "    </tr>\n",
       "    <tr>\n",
       "      <th>writingprompts</th>\n",
       "      <td>holy mackerel guy spotlight writer writer hack...</td>\n",
       "    </tr>\n",
       "  </tbody>\n",
       "</table>\n",
       "</div>"
      ],
      "text/plain": [
       "                                                                text\n",
       "wsb                future apple   share gran kid ask not buy appl...\n",
       "science              child motivate achieve maximum reward extent...\n",
       "ama                tldr fuck want tell people internet lie   funn...\n",
       "askreddit          victorias secret originally suppose place man ...\n",
       "worldnews          post leave purge ok context   facebook estimat...\n",
       "funny              want robot ferret haha suck fool get robotic f...\n",
       "dankmemes          meme month seed nomination july     nomination...\n",
       "memes              redditmc open staff position builder helper mo...\n",
       "nosleep            look like story click   reminder check later g...\n",
       "psychology           decision mental health care canada    study ...\n",
       "politics           wait hold fucking phone   spend like   minute ...\n",
       "cscareerquestions  hi   ve look stable job freelancing rn past ye...\n",
       "writingprompts     holy mackerel guy spotlight writer writer hack..."
      ]
     },
     "execution_count": 57,
     "metadata": {},
     "output_type": "execute_result"
    }
   ],
   "source": [
    "data_df = pd.read_pickle('./lemmatized_bigstrings.pickle')\n",
    "data_df"
   ]
  },
  {
   "cell_type": "code",
   "execution_count": 17,
   "metadata": {},
   "outputs": [
    {
     "data": {
      "text/html": [
       "<div>\n",
       "<style scoped>\n",
       "    .dataframe tbody tr th:only-of-type {\n",
       "        vertical-align: middle;\n",
       "    }\n",
       "\n",
       "    .dataframe tbody tr th {\n",
       "        vertical-align: top;\n",
       "    }\n",
       "\n",
       "    .dataframe thead th {\n",
       "        text-align: right;\n",
       "    }\n",
       "</style>\n",
       "<table border=\"1\" class=\"dataframe\">\n",
       "  <thead>\n",
       "    <tr style=\"text-align: right;\">\n",
       "      <th></th>\n",
       "      <th>text</th>\n",
       "      <th>subreddit</th>\n",
       "    </tr>\n",
       "  </thead>\n",
       "  <tbody>\n",
       "    <tr>\n",
       "      <th>wsb</th>\n",
       "      <td>in the future when apple is at  a share your g...</td>\n",
       "      <td>wsb</td>\n",
       "    </tr>\n",
       "    <tr>\n",
       "      <th>science</th>\n",
       "      <td>the children were not motivated by achieving ...</td>\n",
       "      <td>science</td>\n",
       "    </tr>\n",
       "    <tr>\n",
       "      <th>ama</th>\n",
       "      <td>tldr do whatever the fuck you want so youre te...</td>\n",
       "      <td>ama</td>\n",
       "    </tr>\n",
       "    <tr>\n",
       "      <th>askreddit</th>\n",
       "      <td>victorias secret was originally supposed to be...</td>\n",
       "      <td>askreddit</td>\n",
       "    </tr>\n",
       "    <tr>\n",
       "      <th>worldnews</th>\n",
       "      <td>so was there any posts left after the purge ok...</td>\n",
       "      <td>worldnews</td>\n",
       "    </tr>\n",
       "    <tr>\n",
       "      <th>funny</th>\n",
       "      <td>but i wanted the robot ferret haha suck it you...</td>\n",
       "      <td>funny</td>\n",
       "    </tr>\n",
       "    <tr>\n",
       "      <th>dankmemes</th>\n",
       "      <td>meme of the month seeding and nominations for ...</td>\n",
       "      <td>dankmemes</td>\n",
       "    </tr>\n",
       "    <tr>\n",
       "      <th>memes</th>\n",
       "      <td>redditmc is opening staff positions builders h...</td>\n",
       "      <td>memes</td>\n",
       "    </tr>\n",
       "    <tr>\n",
       "      <th>nosleep</th>\n",
       "      <td>it looks like there may be more to this story ...</td>\n",
       "      <td>nosleep</td>\n",
       "    </tr>\n",
       "    <tr>\n",
       "      <th>psychology</th>\n",
       "      <td>decisions regarding mental health care canada...</td>\n",
       "      <td>psychology</td>\n",
       "    </tr>\n",
       "    <tr>\n",
       "      <th>politics</th>\n",
       "      <td>wait hold the fucking phone  he spent like  mi...</td>\n",
       "      <td>politics</td>\n",
       "    </tr>\n",
       "    <tr>\n",
       "      <th>cscareerquestions</th>\n",
       "      <td>hi there  i ve been looking for a stable job f...</td>\n",
       "      <td>cscareerquestions</td>\n",
       "    </tr>\n",
       "    <tr>\n",
       "      <th>writingprompts</th>\n",
       "      <td>holy mackerel you guys the spotlight is for wr...</td>\n",
       "      <td>writingprompts</td>\n",
       "    </tr>\n",
       "  </tbody>\n",
       "</table>\n",
       "</div>"
      ],
      "text/plain": [
       "                                                                text  \\\n",
       "wsb                in the future when apple is at  a share your g...   \n",
       "science             the children were not motivated by achieving ...   \n",
       "ama                tldr do whatever the fuck you want so youre te...   \n",
       "askreddit          victorias secret was originally supposed to be...   \n",
       "worldnews          so was there any posts left after the purge ok...   \n",
       "funny              but i wanted the robot ferret haha suck it you...   \n",
       "dankmemes          meme of the month seeding and nominations for ...   \n",
       "memes              redditmc is opening staff positions builders h...   \n",
       "nosleep            it looks like there may be more to this story ...   \n",
       "psychology          decisions regarding mental health care canada...   \n",
       "politics           wait hold the fucking phone  he spent like  mi...   \n",
       "cscareerquestions  hi there  i ve been looking for a stable job f...   \n",
       "writingprompts     holy mackerel you guys the spotlight is for wr...   \n",
       "\n",
       "                           subreddit  \n",
       "wsb                              wsb  \n",
       "science                      science  \n",
       "ama                              ama  \n",
       "askreddit                  askreddit  \n",
       "worldnews                  worldnews  \n",
       "funny                          funny  \n",
       "dankmemes                  dankmemes  \n",
       "memes                          memes  \n",
       "nosleep                      nosleep  \n",
       "psychology                psychology  \n",
       "politics                    politics  \n",
       "cscareerquestions  cscareerquestions  \n",
       "writingprompts        writingprompts  "
      ]
     },
     "execution_count": 17,
     "metadata": {},
     "output_type": "execute_result"
    }
   ],
   "source": [
    "data_df = pd.read_pickle('./data_clean.pickle')\n",
    "data_df"
   ]
  },
  {
   "cell_type": "code",
   "execution_count": 58,
   "metadata": {},
   "outputs": [
    {
     "data": {
      "text/html": [
       "<div>\n",
       "<style scoped>\n",
       "    .dataframe tbody tr th:only-of-type {\n",
       "        vertical-align: middle;\n",
       "    }\n",
       "\n",
       "    .dataframe tbody tr th {\n",
       "        vertical-align: top;\n",
       "    }\n",
       "\n",
       "    .dataframe thead th {\n",
       "        text-align: right;\n",
       "    }\n",
       "</style>\n",
       "<table border=\"1\" class=\"dataframe\">\n",
       "  <thead>\n",
       "    <tr style=\"text-align: right;\">\n",
       "      <th></th>\n",
       "      <th>text</th>\n",
       "    </tr>\n",
       "  </thead>\n",
       "  <tbody>\n",
       "    <tr>\n",
       "      <th>worldnews</th>\n",
       "      <td>post leave purge ok context   facebook estimat...</td>\n",
       "    </tr>\n",
       "  </tbody>\n",
       "</table>\n",
       "</div>"
      ],
      "text/plain": [
       "                                                        text\n",
       "worldnews  post leave purge ok context   facebook estimat..."
      ]
     },
     "execution_count": 58,
     "metadata": {},
     "output_type": "execute_result"
    }
   ],
   "source": [
    "wsb = data_df[:1]\n",
    "wsb\n",
    "\n",
    "science = data_df[1:2]\n",
    "science\n",
    "\n",
    "politics = data_df[-3:-2]\n",
    "politics\n",
    "\n",
    "worldnews = data_df[4:5]\n",
    "worldnews"
   ]
  },
  {
   "cell_type": "code",
   "execution_count": 61,
   "metadata": {},
   "outputs": [],
   "source": [
    "vectorizer = CountVectorizer(\n",
    "                             stop_words='english',\n",
    "                             binary=True, ngram_range=(1,3))\n",
    "\n",
    "doc_word = vectorizer.fit_transform(worldnews.text)\n",
    "words = list(np.asarray(vectorizer.get_feature_names())) "
   ]
  },
  {
   "cell_type": "code",
   "execution_count": 62,
   "metadata": {},
   "outputs": [
    {
     "name": "stdout",
     "output_type": "stream",
     "text": [
      "WARNING: Some words never appear (or always appear)\n",
      "0: aa missile,pretend virus mean,pretend virus real,pretense,pretty absolutely beat,pretty abuse short,pretty admire obvious,pretty bad asthma,pretty bad ptsd,pretty bad wave\n",
      "1: aa,preliminary voting,prelude,premba mcol city,premise argument rely,premise chinese entity,premium luxury water,premium storage,premptively destroy,prep include\n",
      "2: aaaaaaaaaaaa motherland,preobama administration,prep commonly,prep commonly include,prep think hurricane,prepackage,prepaid card wire,prepaid home,prepandemic,preparation different\n",
      "3: aa weapon shoot,president jair bolsonaro,president literal pussy,president look straight,president looney,president make,president power thing,president reason different,president stop,president strong\n",
      "4: aa missile ballistic,pretty fast citizen,pretty fucking brutal,pretty fully,pretty generally,pretty generally rich,pretty good hamtown,pretty great reference,pretty grow,pretty holy\n",
      "5: aback understatement,pretty fully reopen,pretty generic term,pretty god,pretty good socially,pretty good title,pretty great,pretty guarantee screw,pretty gutte,pretty hate\n"
     ]
    }
   ],
   "source": [
    "topic_model = ct.Corex(n_hidden=6, words=words,\n",
    "                       max_iter=200, verbose=False, seed=1)\n",
    "\n",
    "topic_model.fit(doc_word, words=words, docs=politics.text)\n",
    "\n",
    "# Print all topics from the CorEx topic model\n",
    "topics = topic_model.get_topics()\n",
    "for n,topic in enumerate(topics):\n",
    "    topic_words,_ = zip(*topic)\n",
    "    print('{}: '.format(n) + ','.join(topic_words))"
   ]
  },
  {
   "cell_type": "code",
   "execution_count": 43,
   "metadata": {},
   "outputs": [
    {
     "name": "stdout",
     "output_type": "stream",
     "text": [
      "WARNING: Some words never appear (or always appear)\n",
      "0: aaa eee,pretty high,pretty huge,pretty ideal,pretty idiocracy,pretty impossible,pretty ingrained,pretty ironic,pretty joe,pretty legit\n",
      "1: aa gyyou,pretty spreading,pretty stances,pretty straightforward,pretty stupid,pretty telling,pretty think,pretty twofer,pretty verbatim,pretty virtually\n",
      "2: aaaannnndddd went,pretext throw,pretransit,pretty absurd,pretty belt,pretty coherent,pretty common,pretty concerning,pretty convinced,pretty da\n",
      "3: aa second,president worse,president wtf,president yup,presidentelect theres,presidentelect trump,presidenti,presidenti dont,presidential,presidential campaigns\n",
      "4: aa,press saying,press sitting,press slip,press unfunny,pressed employees,pressed outside,presser just,presser listening,pressers added\n",
      "5: aaa,pretty unsure,pretty wa,pretty wonder,pretty woods,prevail hate,prevailing,prevalent stupidity,prevent attending,prevent car\n"
     ]
    }
   ],
   "source": [
    "topic_model = ct.Corex(n_hidden=6, words=words,\n",
    "                       max_iter=200, verbose=False, seed=1)\n",
    "\n",
    "topic_model.fit(doc_word, words=words, docs=politics.text, \n",
    "                anchors=[['biden', 'kamala'], 'trump'], anchor_strength=10)\n",
    "\n",
    "# Print all topics from the CorEx topic model\n",
    "topics = topic_model.get_topics()\n",
    "for n,topic in enumerate(topics):\n",
    "    topic_words,_ = zip(*topic)\n",
    "    print('{}: '.format(n) + ','.join(topic_words))"
   ]
  },
  {
   "cell_type": "code",
   "execution_count": 53,
   "metadata": {},
   "outputs": [
    {
     "name": "stdout",
     "output_type": "stream",
     "text": [
      "WARNING: Some words never appear (or always appear)\n",
      "0: aaaand,probably insiders,probably killed,probably killing,probably kind,probably known,probably knows,probably lean,probably main,probably meant\n",
      "1: aa,pretty openly,pretty republican,pretty spectacularly,pretty stark,pretty straightforward,pretty sure,pretty typical,pretty underhanded,pretty unreliable\n",
      "2: aaa,presidents held,presidents son,presidents think,presidents want,presidents win,press ask,press asks,press boom,press face\n",
      "3: aaaandonto enemies,princeton university,principal,principals unique,principle republican,principle turn,principles thats,print prepared,primed ready,printed charts\n",
      "4: aaand sue,presidency shown,presidency time,presidency trump,presidency want,president accountable,president actually,president admitted,president allows,president americans\n",
      "5: aaa bonds,presumably taken,presumed cared,presumption seconds,pretea,pretend biden,pretend choice,pretend does,pretend ignorant,pretend mccain\n",
      "6: aaaand going,pretty kamala,pretty laughable,pretty leftwing,pretty longrunning,pretty messed,pretty moderate,pretty nice,pretty interchangeable,pretty normal\n",
      "7: aaa eee,presidency personal,presidency predicted,presidency seeing,presidency seen,presidency shenanigans,presidency shine,presidency think,presidency world,presidencys\n",
      "8: aahs trump,presidential intelligence,presidential reorganizational,presidential tradition,presidents,presidents point,presidents receive,presidentvice president,presidential elect,presorted\n",
      "9: aa gyyou,pretends social,pretty common,pretty convinced,pretty cute,pretty defeatist,pretty easy,pretty fallacious,pretty fucked,pretty fuckin\n"
     ]
    }
   ],
   "source": [
    "topic_model = ct.Corex(n_hidden=10,\n",
    "                       max_iter=200, verbose=False, seed=1)\n",
    "\n",
    "topic_model.fit(doc_word, words=words, docs=worldnews.text, anchors=['election', 'biden', 'trump'], anchor_strength=10)\n",
    "\n",
    "# Print all topics from the CorEx topic model\n",
    "topics = topic_model.get_topics()\n",
    "for n,topic in enumerate(topics):\n",
    "    topic_words,_ = zip(*topic)\n",
    "    print('{}: '.format(n) + ','.join(topic_words))"
   ]
  },
  {
   "cell_type": "code",
   "execution_count": 63,
   "metadata": {},
   "outputs": [
    {
     "name": "stdout",
     "output_type": "stream",
     "text": [
      "WARNING: Some words never appear (or always appear)\n",
      "0: aaaaaaaaaaaa,preemptively quell,prefer fair matter,prefer hitler xi,prefer little,preferable,preferable actually short,preemptive nuclear,preferable china away,preindication act war\n",
      "1: abandon deterrent reason,precedent feel dumb,precedent nation follow,precedent set folk,precedent thank,precidence surprised,precipice nuclear,precedent feel,precipitate,precise description situation\n",
      "2: aa weapon,president literal pussy,president lose,president lose popular,president nuke,president plainly,president power thing,president httpswwwelectionscienceorgadvancingtheenvironmentalmovementthroughapprovalvote,president putin agent,president seehear\n",
      "3: abandon deterrent,prevent interference,prevent kind,prevent nationality chime,prevent outside,prevent people flee,prevent plane fly,prevent entirely reduce,prevent spread sickness,prevent stock real\n",
      "4: abandon spouse child,prison major,prison lot people,prison corner,prision island,priority water,priority solution run,priority feed rarely,priority aswell leave,priority\n",
      "5: abandon concept,practice learn,practice learn good,practice shift blame,practice wear,pragmatic purpose little,praise especially manager,practice kinda embroil,praise people,pray herd immunity\n",
      "6: aa missile,prevent worthwhile,preventable death,prevention unilateral authority,preventive,preventive lockdown case,preview election belarus,prevent spread country,previous action statement,previous comment case\n",
      "7: aaaaaaaaaaaa motherland funny,practice hub,practice medicine licence,practice terrifying,pragmatic perish,pragmatist know,praise new zealand,practice ccp communist,praise people claim,praise wear mask\n",
      "8: aa missile ballistic,pressup zero underline,pressup lane fact,pressup,press volume switch,press volume,press little,press free,press european defense,press coverage\n",
      "9: aa,pretty sure sort,pretty sure putin,pretty sure probably,pretty sure ireland,pretty sure eu,pretty sure dangerous,pretty stupid way,pretty stupid rely,pretty simple ping\n"
     ]
    }
   ],
   "source": [
    "topic_model = ct.Corex(n_hidden=10,\n",
    "                       max_iter=200, verbose=False, seed=1)\n",
    "\n",
    "topic_model.fit(doc_word, words=words, docs=worldnews.text, anchors=['election', 'biden', 'trump'], anchor_strength=10)\n",
    "\n",
    "# Print all topics from the CorEx topic model\n",
    "topics = topic_model.get_topics()\n",
    "for n,topic in enumerate(topics):\n",
    "    topic_words,_ = zip(*topic)\n",
    "    print('{}: '.format(n) + ','.join(topic_words))"
   ]
  },
  {
   "cell_type": "code",
   "execution_count": 64,
   "metadata": {},
   "outputs": [
    {
     "name": "stdout",
     "output_type": "stream",
     "text": [
      "WARNING: Some words never appear (or always appear)\n",
      "0: aaaaaaaaaaaa,preemptively quell,prefer fair matter,prefer hitler xi,prefer little,preferable,preferable actually short,preemptive nuclear,preferable china away,preindication act war\n",
      "1: abandon deterrent reason,precedent nation follow,precedent set folk,precedent thank,precidence surprised,precipice nuclear,precipitate,precedent feel dumb,precipitate genocide myanmar,precise sure possible\n",
      "2: aa weapon,president httpswwwelectionscienceorgadvancingtheenvironmentalmovementthroughapprovalvote,president literal pussy,president lose,president lose popular,president nuke,president plainly,president george,president power thing,president sausage phone\n",
      "3: abandon deterrent,prevent interference,prevent kind,prevent nationality chime,prevent outside,prevent people flee,prevent plane fly,prevent entirely reduce,prevent spread sickness,prevent stock real\n",
      "4: abandon spouse child,prison major,prison lot people,prison corner,prision island,priority water,priority solution run,priority feed rarely,priority aswell leave,priority\n",
      "5: abandon concept,practice learn,practice learn good,practice shift blame,practice wear,pragmatic purpose little,praise especially manager,practice kinda embroil,praise people,pray herd immunity\n",
      "6: aa missile,prevent worthwhile,preventable death,prevention unilateral authority,preventive,preventive lockdown case,preview election belarus,prevent spread country,previous action statement,previous comment case\n",
      "7: aaaaaaaaaaaa motherland funny,practice hub,practice medicine licence,practice terrifying,pragmatic perish,pragmatist know,praise new zealand,practice ccp communist,praise people claim,praise wear mask\n",
      "8: aa missile ballistic,pressup zero underline,pressup lane fact,pressup,press volume switch,press volume,press little,press free,press european defense,press coverage\n",
      "9: aa,pretty sure sort,pretty sure putin,pretty sure probably,pretty sure ireland,pretty sure eu,pretty sure dangerous,pretty stupid way,pretty stupid rely,pretty simple ping\n"
     ]
    }
   ],
   "source": [
    "topic_model = ct.Corex(n_hidden=10,\n",
    "                       max_iter=200, verbose=False, seed=1)\n",
    "\n",
    "topic_model.fit(doc_word, words=words, docs=worldnews.text, anchors=[['election', 'biden'], 'trump'], anchor_strength=10)\n",
    "\n",
    "# Print all topics from the CorEx topic model\n",
    "topics = topic_model.get_topics()\n",
    "for n,topic in enumerate(topics):\n",
    "    topic_words,_ = zip(*topic)\n",
    "    print('{}: '.format(n) + ','.join(topic_words))"
   ]
  },
  {
   "cell_type": "code",
   "execution_count": null,
   "metadata": {},
   "outputs": [],
   "source": []
  }
 ],
 "metadata": {
  "kernelspec": {
   "display_name": "Python 3",
   "language": "python",
   "name": "python3"
  },
  "language_info": {
   "codemirror_mode": {
    "name": "ipython",
    "version": 3
   },
   "file_extension": ".py",
   "mimetype": "text/x-python",
   "name": "python",
   "nbconvert_exporter": "python",
   "pygments_lexer": "ipython3",
   "version": "3.8.3"
  }
 },
 "nbformat": 4,
 "nbformat_minor": 4
}
