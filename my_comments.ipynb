{
 "cells": [
  {
   "cell_type": "code",
   "execution_count": 23,
   "metadata": {},
   "outputs": [],
   "source": [
    "import pickle\n",
    "import re\n",
    "import string\n",
    "import nltk\n",
    "from nltk.stem.lancaster import LancasterStemmer\n",
    "from nltk.stem.porter import PorterStemmer\n",
    "from nltk.stem.snowball import SnowballStemmer\n",
    "from nltk.stem.wordnet import WordNetLemmatizer\n",
    "from sklearn.feature_extraction.text import CountVectorizer, TfidfVectorizer\n",
    "from nltk.tokenize import TreebankWordTokenizer\n"
   ]
  },
  {
   "cell_type": "code",
   "execution_count": 11,
   "metadata": {},
   "outputs": [],
   "source": [
    "subs = ['wsb', 'science', 'ama', 'askreddit', 'worldnews', 'funny', 'dankmemes', 'memes']\n",
    "\n",
    "# Load pickled files\n",
    "data = {}\n",
    "for i, c in enumerate(subs):\n",
    "    with open(\"/home/nick/Documents/Reddit_NLP/\" + c + \".pickle\", \"rb\") as file:\n",
    "        data[c] = pickle.load(file)"
   ]
  },
  {
   "cell_type": "code",
   "execution_count": 12,
   "metadata": {},
   "outputs": [
    {
     "data": {
      "text/plain": [
       "dict_keys(['wsb', 'science', 'ama', 'askreddit', 'worldnews', 'funny', 'dankmemes', 'memes'])"
      ]
     },
     "execution_count": 12,
     "metadata": {},
     "output_type": "execute_result"
    }
   ],
   "source": [
    "data.keys()"
   ]
  },
  {
   "cell_type": "code",
   "execution_count": 3,
   "metadata": {},
   "outputs": [
    {
     "data": {
      "text/plain": [
       "151679"
      ]
     },
     "execution_count": 3,
     "metadata": {},
     "output_type": "execute_result"
    }
   ],
   "source": [
    "len(wsb) + len(science) + len(ama) + len(askreddit) + len(worldnews) + len(funny) + len(dankmemes) + len(memes)"
   ]
  },
  {
   "cell_type": "code",
   "execution_count": 14,
   "metadata": {},
   "outputs": [],
   "source": [
    "# Turn lists of comments into one big string\n",
    "def combine_text(comments):\n",
    "    combined_text = ' '.join(comments)\n",
    "    return combined_text\n",
    "data_combined = {key: [combine_text(value)] for (key, value) in data.items()}"
   ]
  },
  {
   "cell_type": "code",
   "execution_count": 24,
   "metadata": {},
   "outputs": [
    {
     "data": {
      "text/html": [
       "<div>\n",
       "<style scoped>\n",
       "    .dataframe tbody tr th:only-of-type {\n",
       "        vertical-align: middle;\n",
       "    }\n",
       "\n",
       "    .dataframe tbody tr th {\n",
       "        vertical-align: top;\n",
       "    }\n",
       "\n",
       "    .dataframe thead th {\n",
       "        text-align: right;\n",
       "    }\n",
       "</style>\n",
       "<table border=\"1\" class=\"dataframe\">\n",
       "  <thead>\n",
       "    <tr style=\"text-align: right;\">\n",
       "      <th></th>\n",
       "      <th>text</th>\n",
       "    </tr>\n",
       "  </thead>\n",
       "  <tbody>\n",
       "    <tr>\n",
       "      <th>ama</th>\n",
       "      <td>Tldr: do whatever the fuck you want. So you're telling me people on the internet LIE???? [removed] This is so funny this subreddit got fucked by o...</td>\n",
       "    </tr>\n",
       "    <tr>\n",
       "      <th>askreddit</th>\n",
       "      <td>Victoria’s Secret was originally supposed to be a place for men to buy lingerie for their wives and not feel embarrassed, but now it’s almost excl...</td>\n",
       "    </tr>\n",
       "    <tr>\n",
       "      <th>dankmemes</th>\n",
       "      <td>Meme of the Month Seeding and Nominations for July 2020!\\n\\n# How do nominations work?\\n\\nTo nominate a meme, simply comment a name of a meme that...</td>\n",
       "    </tr>\n",
       "    <tr>\n",
       "      <th>funny</th>\n",
       "      <td>But I wanted the robot ferret. Haha! Suck it you fools, I already got my robotic ferret from a mod! This not funny!\\nRule number...... Oh, I forge...</td>\n",
       "    </tr>\n",
       "    <tr>\n",
       "      <th>memes</th>\n",
       "      <td>RedditMC is opening staff positions: Builders, Helpers (To become mod), Devs, GameMasters...\\n\\nMore infos [here](https://www.reddit.com/r/RedditM...</td>\n",
       "    </tr>\n",
       "    <tr>\n",
       "      <th>science</th>\n",
       "      <td>Am I reading this correctly to conclude that this research supports the emergent theory of consciousness? It's insane to see the advances this has...</td>\n",
       "    </tr>\n",
       "    <tr>\n",
       "      <th>worldnews</th>\n",
       "      <td>So was there any posts left after the purge? Ok, just for some context:\\n\\nFacebook has an estimated ~100 million fake user accounts.\\nEvery month...</td>\n",
       "    </tr>\n",
       "    <tr>\n",
       "      <th>wsb</th>\n",
       "      <td>after 8 green days in a row...\\n\\nWSB: wtf where did that sell off come from??! Man remember 1pm? Those were the days Breaking: **Silver in talks ...</td>\n",
       "    </tr>\n",
       "  </tbody>\n",
       "</table>\n",
       "</div>"
      ],
      "text/plain": [
       "                                                                                                                                                            text\n",
       "ama        Tldr: do whatever the fuck you want. So you're telling me people on the internet LIE???? [removed] This is so funny this subreddit got fucked by o...\n",
       "askreddit  Victoria’s Secret was originally supposed to be a place for men to buy lingerie for their wives and not feel embarrassed, but now it’s almost excl...\n",
       "dankmemes  Meme of the Month Seeding and Nominations for July 2020!\\n\\n# How do nominations work?\\n\\nTo nominate a meme, simply comment a name of a meme that...\n",
       "funny      But I wanted the robot ferret. Haha! Suck it you fools, I already got my robotic ferret from a mod! This not funny!\\nRule number...... Oh, I forge...\n",
       "memes      RedditMC is opening staff positions: Builders, Helpers (To become mod), Devs, GameMasters...\\n\\nMore infos [here](https://www.reddit.com/r/RedditM...\n",
       "science    Am I reading this correctly to conclude that this research supports the emergent theory of consciousness? It's insane to see the advances this has...\n",
       "worldnews  So was there any posts left after the purge? Ok, just for some context:\\n\\nFacebook has an estimated ~100 million fake user accounts.\\nEvery month...\n",
       "wsb        after 8 green days in a row...\\n\\nWSB: wtf where did that sell off come from??! Man remember 1pm? Those were the days Breaking: **Silver in talks ..."
      ]
     },
     "execution_count": 24,
     "metadata": {},
     "output_type": "execute_result"
    }
   ],
   "source": [
    "# We can either keep it in dictionary format or put it into a pandas dataframe\n",
    "import pandas as pd\n",
    "pd.set_option('max_colwidth',150)\n",
    "\n",
    "data_df = pd.DataFrame.from_dict(data_combined).transpose()\n",
    "data_df.columns = ['text']\n",
    "data_df = data_df.sort_index()\n",
    "data_df"
   ]
  },
  {
   "cell_type": "code",
   "execution_count": 16,
   "metadata": {},
   "outputs": [],
   "source": [
    "# Apply a first round of text cleaning techniques\n",
    "import re\n",
    "import string\n",
    "\n",
    "def clean_text_round1(text):\n",
    "    '''Make text lowercase, remove text in square brackets, remove punctuation and remove words containing numbers.'''\n",
    "    text = text.lower()\n",
    "    text = re.sub('\\[.*?\\]', '', text)\n",
    "    text = re.sub('[%s]' % re.escape(string.punctuation), '', text)\n",
    "    text = re.sub('\\w*\\d\\w*', '', text)\n",
    "    return text\n",
    "\n",
    "round1 = lambda x: clean_text_round1(x)"
   ]
  },
  {
   "cell_type": "code",
   "execution_count": 17,
   "metadata": {},
   "outputs": [
    {
     "data": {
      "text/html": [
       "<div>\n",
       "<style scoped>\n",
       "    .dataframe tbody tr th:only-of-type {\n",
       "        vertical-align: middle;\n",
       "    }\n",
       "\n",
       "    .dataframe tbody tr th {\n",
       "        vertical-align: top;\n",
       "    }\n",
       "\n",
       "    .dataframe thead th {\n",
       "        text-align: right;\n",
       "    }\n",
       "</style>\n",
       "<table border=\"1\" class=\"dataframe\">\n",
       "  <thead>\n",
       "    <tr style=\"text-align: right;\">\n",
       "      <th></th>\n",
       "      <th>transcript</th>\n",
       "    </tr>\n",
       "  </thead>\n",
       "  <tbody>\n",
       "    <tr>\n",
       "      <th>ama</th>\n",
       "      <td>tldr do whatever the fuck you want so youre telling me people on the internet lie  this is so funny this subreddit got fucked by one person a note...</td>\n",
       "    </tr>\n",
       "    <tr>\n",
       "      <th>askreddit</th>\n",
       "      <td>victoria’s secret was originally supposed to be a place for men to buy lingerie for their wives and not feel embarrassed but now it’s almost exclu...</td>\n",
       "    </tr>\n",
       "    <tr>\n",
       "      <th>dankmemes</th>\n",
       "      <td>meme of the month seeding and nominations for july \\n\\n how do nominations work\\n\\nto nominate a meme simply comment a name of a meme that started...</td>\n",
       "    </tr>\n",
       "    <tr>\n",
       "      <th>funny</th>\n",
       "      <td>but i wanted the robot ferret haha suck it you fools i already got my robotic ferret from a mod this not funny\\nrule number oh i forget carry on b...</td>\n",
       "    </tr>\n",
       "    <tr>\n",
       "      <th>memes</th>\n",
       "      <td>redditmc is opening staff positions builders helpers to become mod devs gamemasters\\n\\nmore infos  using this to see if i have new flair cries in ...</td>\n",
       "    </tr>\n",
       "    <tr>\n",
       "      <th>science</th>\n",
       "      <td>am i reading this correctly to conclude that this research supports the emergent theory of consciousness its insane to see the advances this has m...</td>\n",
       "    </tr>\n",
       "    <tr>\n",
       "      <th>worldnews</th>\n",
       "      <td>so was there any posts left after the purge ok just for some context\\n\\nfacebook has an estimated  million fake user accounts\\nevery month about  ...</td>\n",
       "    </tr>\n",
       "    <tr>\n",
       "      <th>wsb</th>\n",
       "      <td>after  green days in a row\\n\\nwsb wtf where did that sell off come from man remember  those were the days breaking silver in talks to buy tiktok t...</td>\n",
       "    </tr>\n",
       "  </tbody>\n",
       "</table>\n",
       "</div>"
      ],
      "text/plain": [
       "                                                                                                                                                      transcript\n",
       "ama        tldr do whatever the fuck you want so youre telling me people on the internet lie  this is so funny this subreddit got fucked by one person a note...\n",
       "askreddit  victoria’s secret was originally supposed to be a place for men to buy lingerie for their wives and not feel embarrassed but now it’s almost exclu...\n",
       "dankmemes  meme of the month seeding and nominations for july \\n\\n how do nominations work\\n\\nto nominate a meme simply comment a name of a meme that started...\n",
       "funny      but i wanted the robot ferret haha suck it you fools i already got my robotic ferret from a mod this not funny\\nrule number oh i forget carry on b...\n",
       "memes      redditmc is opening staff positions builders helpers to become mod devs gamemasters\\n\\nmore infos  using this to see if i have new flair cries in ...\n",
       "science    am i reading this correctly to conclude that this research supports the emergent theory of consciousness its insane to see the advances this has m...\n",
       "worldnews  so was there any posts left after the purge ok just for some context\\n\\nfacebook has an estimated  million fake user accounts\\nevery month about  ...\n",
       "wsb        after  green days in a row\\n\\nwsb wtf where did that sell off come from man remember  those were the days breaking silver in talks to buy tiktok t..."
      ]
     },
     "execution_count": 17,
     "metadata": {},
     "output_type": "execute_result"
    }
   ],
   "source": [
    "# Let's take a look at the updated text\n",
    "data_clean = pd.DataFrame(data_df.transcript.apply(round1))\n",
    "data_clean"
   ]
  },
  {
   "cell_type": "code",
   "execution_count": 20,
   "metadata": {},
   "outputs": [],
   "source": [
    "# Get rid of newlines, punctuation that was missed\n",
    "def clean_text_round2(text):\n",
    "    text = re.sub('[‘’“”…]', '', text)\n",
    "    text = re.sub('\\n', '', text)\n",
    "    return text\n",
    "\n",
    "round2 = lambda x: clean_text_round2(x)"
   ]
  },
  {
   "cell_type": "code",
   "execution_count": 21,
   "metadata": {},
   "outputs": [
    {
     "data": {
      "text/html": [
       "<div>\n",
       "<style scoped>\n",
       "    .dataframe tbody tr th:only-of-type {\n",
       "        vertical-align: middle;\n",
       "    }\n",
       "\n",
       "    .dataframe tbody tr th {\n",
       "        vertical-align: top;\n",
       "    }\n",
       "\n",
       "    .dataframe thead th {\n",
       "        text-align: right;\n",
       "    }\n",
       "</style>\n",
       "<table border=\"1\" class=\"dataframe\">\n",
       "  <thead>\n",
       "    <tr style=\"text-align: right;\">\n",
       "      <th></th>\n",
       "      <th>transcript</th>\n",
       "    </tr>\n",
       "  </thead>\n",
       "  <tbody>\n",
       "    <tr>\n",
       "      <th>ama</th>\n",
       "      <td>tldr do whatever the fuck you want so youre telling me people on the internet lie  this is so funny this subreddit got fucked by one person a note...</td>\n",
       "    </tr>\n",
       "    <tr>\n",
       "      <th>askreddit</th>\n",
       "      <td>victorias secret was originally supposed to be a place for men to buy lingerie for their wives and not feel embarrassed but now its almost exclusi...</td>\n",
       "    </tr>\n",
       "    <tr>\n",
       "      <th>dankmemes</th>\n",
       "      <td>meme of the month seeding and nominations for july  how do nominations workto nominate a meme simply comment a name of a meme that started or peak...</td>\n",
       "    </tr>\n",
       "    <tr>\n",
       "      <th>funny</th>\n",
       "      <td>but i wanted the robot ferret haha suck it you fools i already got my robotic ferret from a mod this not funnyrule number oh i forget carry on but...</td>\n",
       "    </tr>\n",
       "    <tr>\n",
       "      <th>memes</th>\n",
       "      <td>redditmc is opening staff positions builders helpers to become mod devs gamemastersmore infos  using this to see if i have new flair cries in bedr...</td>\n",
       "    </tr>\n",
       "    <tr>\n",
       "      <th>science</th>\n",
       "      <td>am i reading this correctly to conclude that this research supports the emergent theory of consciousness its insane to see the advances this has m...</td>\n",
       "    </tr>\n",
       "    <tr>\n",
       "      <th>worldnews</th>\n",
       "      <td>so was there any posts left after the purge ok just for some contextfacebook has an estimated  million fake user accountsevery month about  billio...</td>\n",
       "    </tr>\n",
       "    <tr>\n",
       "      <th>wsb</th>\n",
       "      <td>after  green days in a rowwsb wtf where did that sell off come from man remember  those were the days breaking silver in talks to buy tiktok this ...</td>\n",
       "    </tr>\n",
       "  </tbody>\n",
       "</table>\n",
       "</div>"
      ],
      "text/plain": [
       "                                                                                                                                                      transcript\n",
       "ama        tldr do whatever the fuck you want so youre telling me people on the internet lie  this is so funny this subreddit got fucked by one person a note...\n",
       "askreddit  victorias secret was originally supposed to be a place for men to buy lingerie for their wives and not feel embarrassed but now its almost exclusi...\n",
       "dankmemes  meme of the month seeding and nominations for july  how do nominations workto nominate a meme simply comment a name of a meme that started or peak...\n",
       "funny      but i wanted the robot ferret haha suck it you fools i already got my robotic ferret from a mod this not funnyrule number oh i forget carry on but...\n",
       "memes      redditmc is opening staff positions builders helpers to become mod devs gamemastersmore infos  using this to see if i have new flair cries in bedr...\n",
       "science    am i reading this correctly to conclude that this research supports the emergent theory of consciousness its insane to see the advances this has m...\n",
       "worldnews  so was there any posts left after the purge ok just for some contextfacebook has an estimated  million fake user accountsevery month about  billio...\n",
       "wsb        after  green days in a rowwsb wtf where did that sell off come from man remember  those were the days breaking silver in talks to buy tiktok this ..."
      ]
     },
     "execution_count": 21,
     "metadata": {},
     "output_type": "execute_result"
    }
   ],
   "source": [
    "# Let's take a look at the updated text\n",
    "data_clean = pd.DataFrame(data_clean.transcript.apply(round2))\n",
    "data_clean"
   ]
  },
  {
   "cell_type": "code",
   "execution_count": null,
   "metadata": {},
   "outputs": [],
   "source": []
  },
  {
   "cell_type": "code",
   "execution_count": null,
   "metadata": {},
   "outputs": [],
   "source": []
  }
 ],
 "metadata": {
  "kernelspec": {
   "display_name": "Python 3",
   "language": "python",
   "name": "python3"
  },
  "language_info": {
   "codemirror_mode": {
    "name": "ipython",
    "version": 3
   },
   "file_extension": ".py",
   "mimetype": "text/x-python",
   "name": "python",
   "nbconvert_exporter": "python",
   "pygments_lexer": "ipython3",
   "version": "3.8.3"
  }
 },
 "nbformat": 4,
 "nbformat_minor": 4
}
